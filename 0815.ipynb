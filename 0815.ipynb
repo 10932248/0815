{
  "nbformat": 4,
  "nbformat_minor": 0,
  "metadata": {
    "colab": {
      "provenance": [],
      "include_colab_link": true
    },
    "kernelspec": {
      "name": "python3",
      "display_name": "Python 3"
    },
    "language_info": {
      "name": "python"
    }
  },
  "cells": [
    {
      "cell_type": "markdown",
      "metadata": {
        "id": "view-in-github",
        "colab_type": "text"
      },
      "source": [
        "<a href=\"https://colab.research.google.com/github/10932248/0815/blob/main/0815.ipynb\" target=\"_parent\"><img src=\"https://colab.research.google.com/assets/colab-badge.svg\" alt=\"Open In Colab\"/></a>"
      ]
    },
    {
      "cell_type": "code",
      "execution_count": 6,
      "metadata": {
        "colab": {
          "base_uri": "https://localhost:8080/",
          "height": 1000
        },
        "id": "Acxz0CMIsGl8",
        "outputId": "498bf27f-4e92-450f-a7bb-d4cd31bc8a73"
      },
      "outputs": [
        {
          "output_type": "stream",
          "name": "stdout",
          "text": [
            "          Date       Open       High        Low      Close  Adj Close  \\\n",
            "0     2022/8/9  93.889999  93.889999  85.599998  87.680000  87.680000   \n",
            "1    2022/8/10  89.980003  95.000000  88.000000  94.139999  94.139999   \n",
            "2    2022/8/11  97.250000  98.699997  82.309998  84.000000  84.000000   \n",
            "3    2022/8/12  85.230003  92.480003  83.290001  90.489998  90.489998   \n",
            "4    2022/8/15  89.110001  93.680000  88.589996  91.970001  91.970001   \n",
            "..         ...        ...        ...        ...        ...        ...   \n",
            "247   2023/8/3  89.000000  93.440002  88.459999  90.750000  90.750000   \n",
            "248   2023/8/4  89.000000  94.290001  86.699997  87.309998  87.309998   \n",
            "249   2023/8/7  87.199997  87.300003  82.089996  85.959999  85.959999   \n",
            "250   2023/8/8  87.089996  88.989998  84.550003  88.040001  88.040001   \n",
            "251   2023/8/9  88.529999  88.900002  84.080002  84.339996  84.339996   \n",
            "\n",
            "       Volume  \n",
            "0    17411400  \n",
            "1    23818200  \n",
            "2    23247300  \n",
            "3    13755200  \n",
            "4    11001900  \n",
            "..        ...  \n",
            "247  10297200  \n",
            "248  13187100  \n",
            "249  10019500  \n",
            "250   8986900  \n",
            "251   7960700  \n",
            "\n",
            "[252 rows x 7 columns]\n"
          ]
        },
        {
          "output_type": "display_data",
          "data": {
            "text/html": [
              "<html>\n",
              "<head><meta charset=\"utf-8\" /></head>\n",
              "<body>\n",
              "    <div>            <script src=\"https://cdnjs.cloudflare.com/ajax/libs/mathjax/2.7.5/MathJax.js?config=TeX-AMS-MML_SVG\"></script><script type=\"text/javascript\">if (window.MathJax && window.MathJax.Hub && window.MathJax.Hub.Config) {window.MathJax.Hub.Config({SVG: {font: \"STIX-Web\"}});}</script>                <script type=\"text/javascript\">window.PlotlyConfig = {MathJaxConfig: 'local'};</script>\n",
              "        <script charset=\"utf-8\" src=\"https://cdn.plot.ly/plotly-2.24.1.min.js\"></script>                <div id=\"9aef8fdb-4d4e-4c33-9ecb-d3e3eece44c8\" class=\"plotly-graph-div\" style=\"height:525px; width:100%;\"></div>            <script type=\"text/javascript\">                                    window.PLOTLYENV=window.PLOTLYENV || {};                                    if (document.getElementById(\"9aef8fdb-4d4e-4c33-9ecb-d3e3eece44c8\")) {                    Plotly.newPlot(                        \"9aef8fdb-4d4e-4c33-9ecb-d3e3eece44c8\",                        [{\"name\":\"Close\",\"x\":[\"2022\\u002f8\\u002f9\",\"2022\\u002f8\\u002f10\",\"2022\\u002f8\\u002f11\",\"2022\\u002f8\\u002f12\",\"2022\\u002f8\\u002f15\",\"2022\\u002f8\\u002f16\",\"2022\\u002f8\\u002f17\",\"2022\\u002f8\\u002f18\",\"2022\\u002f8\\u002f19\",\"2022\\u002f8\\u002f22\",\"2022\\u002f8\\u002f23\",\"2022\\u002f8\\u002f24\",\"2022\\u002f8\\u002f25\",\"2022\\u002f8\\u002f26\",\"2022\\u002f8\\u002f29\",\"2022\\u002f8\\u002f30\",\"2022\\u002f8\\u002f31\",\"2022\\u002f9\\u002f1\",\"2022\\u002f9\\u002f2\",\"2022\\u002f9\\u002f6\",\"2022\\u002f9\\u002f7\",\"2022\\u002f9\\u002f8\",\"2022\\u002f9\\u002f9\",\"2022\\u002f9\\u002f12\",\"2022\\u002f9\\u002f13\",\"2022\\u002f9\\u002f14\",\"2022\\u002f9\\u002f15\",\"2022\\u002f9\\u002f16\",\"2022\\u002f9\\u002f19\",\"2022\\u002f9\\u002f20\",\"2022\\u002f9\\u002f21\",\"2022\\u002f9\\u002f22\",\"2022\\u002f9\\u002f23\",\"2022\\u002f9\\u002f26\",\"2022\\u002f9\\u002f27\",\"2022\\u002f9\\u002f28\",\"2022\\u002f9\\u002f29\",\"2022\\u002f9\\u002f30\",\"2022\\u002f10\\u002f3\",\"2022\\u002f10\\u002f4\",\"2022\\u002f10\\u002f5\",\"2022\\u002f10\\u002f6\",\"2022\\u002f10\\u002f7\",\"2022\\u002f10\\u002f10\",\"2022\\u002f10\\u002f11\",\"2022\\u002f10\\u002f12\",\"2022\\u002f10\\u002f13\",\"2022\\u002f10\\u002f14\",\"2022\\u002f10\\u002f17\",\"2022\\u002f10\\u002f18\",\"2022\\u002f10\\u002f19\",\"2022\\u002f10\\u002f20\",\"2022\\u002f10\\u002f21\",\"2022\\u002f10\\u002f24\",\"2022\\u002f10\\u002f25\",\"2022\\u002f10\\u002f26\",\"2022\\u002f10\\u002f27\",\"2022\\u002f10\\u002f28\",\"2022\\u002f10\\u002f31\",\"2022\\u002f11\\u002f1\",\"2022\\u002f11\\u002f2\",\"2022\\u002f11\\u002f3\",\"2022\\u002f11\\u002f4\",\"2022\\u002f11\\u002f7\",\"2022\\u002f11\\u002f8\",\"2022\\u002f11\\u002f9\",\"2022\\u002f11\\u002f10\",\"2022\\u002f11\\u002f11\",\"2022\\u002f11\\u002f14\",\"2022\\u002f11\\u002f15\",\"2022\\u002f11\\u002f16\",\"2022\\u002f11\\u002f17\",\"2022\\u002f11\\u002f18\",\"2022\\u002f11\\u002f21\",\"2022\\u002f11\\u002f22\",\"2022\\u002f11\\u002f23\",\"2022\\u002f11\\u002f25\",\"2022\\u002f11\\u002f28\",\"2022\\u002f11\\u002f29\",\"2022\\u002f11\\u002f30\",\"2022\\u002f12\\u002f1\",\"2022\\u002f12\\u002f2\",\"2022\\u002f12\\u002f5\",\"2022\\u002f12\\u002f6\",\"2022\\u002f12\\u002f7\",\"2022\\u002f12\\u002f8\",\"2022\\u002f12\\u002f9\",\"2022\\u002f12\\u002f12\",\"2022\\u002f12\\u002f13\",\"2022\\u002f12\\u002f14\",\"2022\\u002f12\\u002f15\",\"2022\\u002f12\\u002f16\",\"2022\\u002f12\\u002f19\",\"2022\\u002f12\\u002f20\",\"2022\\u002f12\\u002f21\",\"2022\\u002f12\\u002f22\",\"2022\\u002f12\\u002f23\",\"2022\\u002f12\\u002f27\",\"2022\\u002f12\\u002f28\",\"2022\\u002f12\\u002f29\",\"2022\\u002f12\\u002f30\",\"2023\\u002f1\\u002f3\",\"2023\\u002f1\\u002f4\",\"2023\\u002f1\\u002f5\",\"2023\\u002f1\\u002f6\",\"2023\\u002f1\\u002f9\",\"2023\\u002f1\\u002f10\",\"2023\\u002f1\\u002f11\",\"2023\\u002f1\\u002f12\",\"2023\\u002f1\\u002f13\",\"2023\\u002f1\\u002f17\",\"2023\\u002f1\\u002f18\",\"2023\\u002f1\\u002f19\",\"2023\\u002f1\\u002f20\",\"2023\\u002f1\\u002f23\",\"2023\\u002f1\\u002f24\",\"2023\\u002f1\\u002f25\",\"2023\\u002f1\\u002f26\",\"2023\\u002f1\\u002f27\",\"2023\\u002f1\\u002f30\",\"2023\\u002f1\\u002f31\",\"2023\\u002f2\\u002f1\",\"2023\\u002f2\\u002f2\",\"2023\\u002f2\\u002f3\",\"2023\\u002f2\\u002f6\",\"2023\\u002f2\\u002f7\",\"2023\\u002f2\\u002f8\",\"2023\\u002f2\\u002f9\",\"2023\\u002f2\\u002f10\",\"2023\\u002f2\\u002f13\",\"2023\\u002f2\\u002f14\",\"2023\\u002f2\\u002f15\",\"2023\\u002f2\\u002f16\",\"2023\\u002f2\\u002f17\",\"2023\\u002f2\\u002f21\",\"2023\\u002f2\\u002f22\",\"2023\\u002f2\\u002f23\",\"2023\\u002f2\\u002f24\",\"2023\\u002f2\\u002f27\",\"2023\\u002f2\\u002f28\",\"2023\\u002f3\\u002f1\",\"2023\\u002f3\\u002f2\",\"2023\\u002f3\\u002f3\",\"2023\\u002f3\\u002f6\",\"2023\\u002f3\\u002f7\",\"2023\\u002f3\\u002f8\",\"2023\\u002f3\\u002f9\",\"2023\\u002f3\\u002f10\",\"2023\\u002f3\\u002f13\",\"2023\\u002f3\\u002f14\",\"2023\\u002f3\\u002f15\",\"2023\\u002f3\\u002f16\",\"2023\\u002f3\\u002f17\",\"2023\\u002f3\\u002f20\",\"2023\\u002f3\\u002f21\",\"2023\\u002f3\\u002f22\",\"2023\\u002f3\\u002f23\",\"2023\\u002f3\\u002f24\",\"2023\\u002f3\\u002f27\",\"2023\\u002f3\\u002f28\",\"2023\\u002f3\\u002f29\",\"2023\\u002f3\\u002f30\",\"2023\\u002f3\\u002f31\",\"2023\\u002f4\\u002f3\",\"2023\\u002f4\\u002f4\",\"2023\\u002f4\\u002f5\",\"2023\\u002f4\\u002f6\",\"2023\\u002f4\\u002f10\",\"2023\\u002f4\\u002f11\",\"2023\\u002f4\\u002f12\",\"2023\\u002f4\\u002f13\",\"2023\\u002f4\\u002f14\",\"2023\\u002f4\\u002f17\",\"2023\\u002f4\\u002f18\",\"2023\\u002f4\\u002f19\",\"2023\\u002f4\\u002f20\",\"2023\\u002f4\\u002f21\",\"2023\\u002f4\\u002f24\",\"2023\\u002f4\\u002f25\",\"2023\\u002f4\\u002f26\",\"2023\\u002f4\\u002f27\",\"2023\\u002f4\\u002f28\",\"2023\\u002f5\\u002f1\",\"2023\\u002f5\\u002f2\",\"2023\\u002f5\\u002f3\",\"2023\\u002f5\\u002f4\",\"2023\\u002f5\\u002f5\",\"2023\\u002f5\\u002f8\",\"2023\\u002f5\\u002f9\",\"2023\\u002f5\\u002f10\",\"2023\\u002f5\\u002f11\",\"2023\\u002f5\\u002f12\",\"2023\\u002f5\\u002f15\",\"2023\\u002f5\\u002f16\",\"2023\\u002f5\\u002f17\",\"2023\\u002f5\\u002f18\",\"2023\\u002f5\\u002f19\",\"2023\\u002f5\\u002f22\",\"2023\\u002f5\\u002f23\",\"2023\\u002f5\\u002f24\",\"2023\\u002f5\\u002f25\",\"2023\\u002f5\\u002f26\",\"2023\\u002f5\\u002f30\",\"2023\\u002f5\\u002f31\",\"2023\\u002f6\\u002f1\",\"2023\\u002f6\\u002f2\",\"2023\\u002f6\\u002f5\",\"2023\\u002f6\\u002f6\",\"2023\\u002f6\\u002f7\",\"2023\\u002f6\\u002f8\",\"2023\\u002f6\\u002f9\",\"2023\\u002f6\\u002f12\",\"2023\\u002f6\\u002f13\",\"2023\\u002f6\\u002f14\",\"2023\\u002f6\\u002f15\",\"2023\\u002f6\\u002f16\",\"2023\\u002f6\\u002f20\",\"2023\\u002f6\\u002f21\",\"2023\\u002f6\\u002f22\",\"2023\\u002f6\\u002f23\",\"2023\\u002f6\\u002f26\",\"2023\\u002f6\\u002f27\",\"2023\\u002f6\\u002f28\",\"2023\\u002f6\\u002f29\",\"2023\\u002f6\\u002f30\",\"2023\\u002f7\\u002f3\",\"2023\\u002f7\\u002f5\",\"2023\\u002f7\\u002f6\",\"2023\\u002f7\\u002f7\",\"2023\\u002f7\\u002f10\",\"2023\\u002f7\\u002f11\",\"2023\\u002f7\\u002f12\",\"2023\\u002f7\\u002f13\",\"2023\\u002f7\\u002f14\",\"2023\\u002f7\\u002f17\",\"2023\\u002f7\\u002f18\",\"2023\\u002f7\\u002f19\",\"2023\\u002f7\\u002f20\",\"2023\\u002f7\\u002f21\",\"2023\\u002f7\\u002f24\",\"2023\\u002f7\\u002f25\",\"2023\\u002f7\\u002f26\",\"2023\\u002f7\\u002f27\",\"2023\\u002f7\\u002f28\",\"2023\\u002f7\\u002f31\",\"2023\\u002f8\\u002f1\",\"2023\\u002f8\\u002f2\",\"2023\\u002f8\\u002f3\",\"2023\\u002f8\\u002f4\",\"2023\\u002f8\\u002f7\",\"2023\\u002f8\\u002f8\",\"2023\\u002f8\\u002f9\"],\"y\":[87.68,94.139999,84.0,90.489998,91.970001,90.389999,85.440002,83.470001,74.059998,71.470001,71.18,71.480003,71.370003,66.739998,66.339996,67.029999,66.800003,65.529999,65.260002,62.779999,68.25,73.080002,80.870003,82.550003,75.25,78.699997,77.230003,74.0,69.93,67.940002,67.639999,62.939999,61.880001,62.279999,63.049999,67.309998,61.939999,64.489998,65.949997,74.5,72.970001,73.910004,67.0,67.040001,70.160004,69.949997,69.260002,63.59,69.169998,66.209999,63.189999,63.59,66.379997,66.389999,75.050003,73.809998,72.470001,72.07,66.25,63.290001,60.709999,55.799999,58.82,56.970001,50.830002,45.98,50.919998,57.459999,53.220001,55.529999,48.830002,48.790001,45.259998,41.23,43.389999,45.57,44.279999,42.509998,43.110001,45.73,45.27,47.669998,46.0,42.41,41.259998,42.810001,40.240002,42.599998,38.689999,40.189999,37.98,36.599998,35.169998,34.970001,35.150002,34.59,35.490002,32.650002,32.529999,34.779999,35.389999,33.599998,37.700001,33.529999,33.259998,38.27,43.23,43.790001,47.549999,49.98,54.139999,50.209999,49.419998,55.16,55.959999,53.560001,52.759998,53.02,61.369999,56.16,58.48,65.699997,81.459999,74.629997,74.589996,71.419998,69.440002,59.630001,57.09,56.400002,59.029999,69.339996,65.589996,65.199997,62.07,61.18,62.360001,58.439999,58.959999,64.830002,64.669998,63.700001,64.510002,62.77,61.889999,63.009998,58.09,53.439999,59.169998,62.650002,64.470001,67.779999,74.980003,75.139999,83.989998,77.139999,66.300003,67.830002,62.540001,63.040001,65.300003,64.160004,67.57,63.610001,62.540001,60.779999,61.439999,66.129997,70.190002,67.839996,68.949997,69.910004,67.720001,67.260002,64.440002,60.5,59.040001,54.75,55.549999,53.889999,54.169998,53.790001,50.139999,51.32,48.490002,49.220001,58.240002,58.099998,60.209999,62.639999,60.349998,57.34,60.77,57.880001,61.040001,60.259998,56.779999,61.07,59.099998,58.360001,56.869999,56.919998,61.169998,62.200001,63.57,64.550003,58.709999,51.610001,53.259998,54.900002,53.279999,50.560001,52.400002,53.900002,54.25,55.59,57.09,58.099998,57.490002,61.470001,61.939999,69.889999,70.75,72.43,71.550003,79.93,78.349998,78.099998,78.720001,81.209999,89.150002,85.949997,107.0,105.309998,105.550003,104.589996,110.150002,101.260002,100.82,98.849998,97.68,99.75,92.690002,94.760002,98.610001,94.150002,90.43,90.75,87.309998,85.959999,88.040001,84.339996],\"type\":\"scatter\"}],                        {\"template\":{\"data\":{\"histogram2dcontour\":[{\"type\":\"histogram2dcontour\",\"colorbar\":{\"outlinewidth\":0,\"ticks\":\"\"},\"colorscale\":[[0.0,\"#0d0887\"],[0.1111111111111111,\"#46039f\"],[0.2222222222222222,\"#7201a8\"],[0.3333333333333333,\"#9c179e\"],[0.4444444444444444,\"#bd3786\"],[0.5555555555555556,\"#d8576b\"],[0.6666666666666666,\"#ed7953\"],[0.7777777777777778,\"#fb9f3a\"],[0.8888888888888888,\"#fdca26\"],[1.0,\"#f0f921\"]]}],\"choropleth\":[{\"type\":\"choropleth\",\"colorbar\":{\"outlinewidth\":0,\"ticks\":\"\"}}],\"histogram2d\":[{\"type\":\"histogram2d\",\"colorbar\":{\"outlinewidth\":0,\"ticks\":\"\"},\"colorscale\":[[0.0,\"#0d0887\"],[0.1111111111111111,\"#46039f\"],[0.2222222222222222,\"#7201a8\"],[0.3333333333333333,\"#9c179e\"],[0.4444444444444444,\"#bd3786\"],[0.5555555555555556,\"#d8576b\"],[0.6666666666666666,\"#ed7953\"],[0.7777777777777778,\"#fb9f3a\"],[0.8888888888888888,\"#fdca26\"],[1.0,\"#f0f921\"]]}],\"heatmap\":[{\"type\":\"heatmap\",\"colorbar\":{\"outlinewidth\":0,\"ticks\":\"\"},\"colorscale\":[[0.0,\"#0d0887\"],[0.1111111111111111,\"#46039f\"],[0.2222222222222222,\"#7201a8\"],[0.3333333333333333,\"#9c179e\"],[0.4444444444444444,\"#bd3786\"],[0.5555555555555556,\"#d8576b\"],[0.6666666666666666,\"#ed7953\"],[0.7777777777777778,\"#fb9f3a\"],[0.8888888888888888,\"#fdca26\"],[1.0,\"#f0f921\"]]}],\"heatmapgl\":[{\"type\":\"heatmapgl\",\"colorbar\":{\"outlinewidth\":0,\"ticks\":\"\"},\"colorscale\":[[0.0,\"#0d0887\"],[0.1111111111111111,\"#46039f\"],[0.2222222222222222,\"#7201a8\"],[0.3333333333333333,\"#9c179e\"],[0.4444444444444444,\"#bd3786\"],[0.5555555555555556,\"#d8576b\"],[0.6666666666666666,\"#ed7953\"],[0.7777777777777778,\"#fb9f3a\"],[0.8888888888888888,\"#fdca26\"],[1.0,\"#f0f921\"]]}],\"contourcarpet\":[{\"type\":\"contourcarpet\",\"colorbar\":{\"outlinewidth\":0,\"ticks\":\"\"}}],\"contour\":[{\"type\":\"contour\",\"colorbar\":{\"outlinewidth\":0,\"ticks\":\"\"},\"colorscale\":[[0.0,\"#0d0887\"],[0.1111111111111111,\"#46039f\"],[0.2222222222222222,\"#7201a8\"],[0.3333333333333333,\"#9c179e\"],[0.4444444444444444,\"#bd3786\"],[0.5555555555555556,\"#d8576b\"],[0.6666666666666666,\"#ed7953\"],[0.7777777777777778,\"#fb9f3a\"],[0.8888888888888888,\"#fdca26\"],[1.0,\"#f0f921\"]]}],\"surface\":[{\"type\":\"surface\",\"colorbar\":{\"outlinewidth\":0,\"ticks\":\"\"},\"colorscale\":[[0.0,\"#0d0887\"],[0.1111111111111111,\"#46039f\"],[0.2222222222222222,\"#7201a8\"],[0.3333333333333333,\"#9c179e\"],[0.4444444444444444,\"#bd3786\"],[0.5555555555555556,\"#d8576b\"],[0.6666666666666666,\"#ed7953\"],[0.7777777777777778,\"#fb9f3a\"],[0.8888888888888888,\"#fdca26\"],[1.0,\"#f0f921\"]]}],\"mesh3d\":[{\"type\":\"mesh3d\",\"colorbar\":{\"outlinewidth\":0,\"ticks\":\"\"}}],\"scatter\":[{\"fillpattern\":{\"fillmode\":\"overlay\",\"size\":10,\"solidity\":0.2},\"type\":\"scatter\"}],\"parcoords\":[{\"type\":\"parcoords\",\"line\":{\"colorbar\":{\"outlinewidth\":0,\"ticks\":\"\"}}}],\"scatterpolargl\":[{\"type\":\"scatterpolargl\",\"marker\":{\"colorbar\":{\"outlinewidth\":0,\"ticks\":\"\"}}}],\"bar\":[{\"error_x\":{\"color\":\"#2a3f5f\"},\"error_y\":{\"color\":\"#2a3f5f\"},\"marker\":{\"line\":{\"color\":\"#E5ECF6\",\"width\":0.5},\"pattern\":{\"fillmode\":\"overlay\",\"size\":10,\"solidity\":0.2}},\"type\":\"bar\"}],\"scattergeo\":[{\"type\":\"scattergeo\",\"marker\":{\"colorbar\":{\"outlinewidth\":0,\"ticks\":\"\"}}}],\"scatterpolar\":[{\"type\":\"scatterpolar\",\"marker\":{\"colorbar\":{\"outlinewidth\":0,\"ticks\":\"\"}}}],\"histogram\":[{\"marker\":{\"pattern\":{\"fillmode\":\"overlay\",\"size\":10,\"solidity\":0.2}},\"type\":\"histogram\"}],\"scattergl\":[{\"type\":\"scattergl\",\"marker\":{\"colorbar\":{\"outlinewidth\":0,\"ticks\":\"\"}}}],\"scatter3d\":[{\"type\":\"scatter3d\",\"line\":{\"colorbar\":{\"outlinewidth\":0,\"ticks\":\"\"}},\"marker\":{\"colorbar\":{\"outlinewidth\":0,\"ticks\":\"\"}}}],\"scattermapbox\":[{\"type\":\"scattermapbox\",\"marker\":{\"colorbar\":{\"outlinewidth\":0,\"ticks\":\"\"}}}],\"scatterternary\":[{\"type\":\"scatterternary\",\"marker\":{\"colorbar\":{\"outlinewidth\":0,\"ticks\":\"\"}}}],\"scattercarpet\":[{\"type\":\"scattercarpet\",\"marker\":{\"colorbar\":{\"outlinewidth\":0,\"ticks\":\"\"}}}],\"carpet\":[{\"aaxis\":{\"endlinecolor\":\"#2a3f5f\",\"gridcolor\":\"white\",\"linecolor\":\"white\",\"minorgridcolor\":\"white\",\"startlinecolor\":\"#2a3f5f\"},\"baxis\":{\"endlinecolor\":\"#2a3f5f\",\"gridcolor\":\"white\",\"linecolor\":\"white\",\"minorgridcolor\":\"white\",\"startlinecolor\":\"#2a3f5f\"},\"type\":\"carpet\"}],\"table\":[{\"cells\":{\"fill\":{\"color\":\"#EBF0F8\"},\"line\":{\"color\":\"white\"}},\"header\":{\"fill\":{\"color\":\"#C8D4E3\"},\"line\":{\"color\":\"white\"}},\"type\":\"table\"}],\"barpolar\":[{\"marker\":{\"line\":{\"color\":\"#E5ECF6\",\"width\":0.5},\"pattern\":{\"fillmode\":\"overlay\",\"size\":10,\"solidity\":0.2}},\"type\":\"barpolar\"}],\"pie\":[{\"automargin\":true,\"type\":\"pie\"}]},\"layout\":{\"autotypenumbers\":\"strict\",\"colorway\":[\"#636efa\",\"#EF553B\",\"#00cc96\",\"#ab63fa\",\"#FFA15A\",\"#19d3f3\",\"#FF6692\",\"#B6E880\",\"#FF97FF\",\"#FECB52\"],\"font\":{\"color\":\"#2a3f5f\"},\"hovermode\":\"closest\",\"hoverlabel\":{\"align\":\"left\"},\"paper_bgcolor\":\"white\",\"plot_bgcolor\":\"#E5ECF6\",\"polar\":{\"bgcolor\":\"#E5ECF6\",\"angularaxis\":{\"gridcolor\":\"white\",\"linecolor\":\"white\",\"ticks\":\"\"},\"radialaxis\":{\"gridcolor\":\"white\",\"linecolor\":\"white\",\"ticks\":\"\"}},\"ternary\":{\"bgcolor\":\"#E5ECF6\",\"aaxis\":{\"gridcolor\":\"white\",\"linecolor\":\"white\",\"ticks\":\"\"},\"baxis\":{\"gridcolor\":\"white\",\"linecolor\":\"white\",\"ticks\":\"\"},\"caxis\":{\"gridcolor\":\"white\",\"linecolor\":\"white\",\"ticks\":\"\"}},\"coloraxis\":{\"colorbar\":{\"outlinewidth\":0,\"ticks\":\"\"}},\"colorscale\":{\"sequential\":[[0.0,\"#0d0887\"],[0.1111111111111111,\"#46039f\"],[0.2222222222222222,\"#7201a8\"],[0.3333333333333333,\"#9c179e\"],[0.4444444444444444,\"#bd3786\"],[0.5555555555555556,\"#d8576b\"],[0.6666666666666666,\"#ed7953\"],[0.7777777777777778,\"#fb9f3a\"],[0.8888888888888888,\"#fdca26\"],[1.0,\"#f0f921\"]],\"sequentialminus\":[[0.0,\"#0d0887\"],[0.1111111111111111,\"#46039f\"],[0.2222222222222222,\"#7201a8\"],[0.3333333333333333,\"#9c179e\"],[0.4444444444444444,\"#bd3786\"],[0.5555555555555556,\"#d8576b\"],[0.6666666666666666,\"#ed7953\"],[0.7777777777777778,\"#fb9f3a\"],[0.8888888888888888,\"#fdca26\"],[1.0,\"#f0f921\"]],\"diverging\":[[0,\"#8e0152\"],[0.1,\"#c51b7d\"],[0.2,\"#de77ae\"],[0.3,\"#f1b6da\"],[0.4,\"#fde0ef\"],[0.5,\"#f7f7f7\"],[0.6,\"#e6f5d0\"],[0.7,\"#b8e186\"],[0.8,\"#7fbc41\"],[0.9,\"#4d9221\"],[1,\"#276419\"]]},\"xaxis\":{\"gridcolor\":\"white\",\"linecolor\":\"white\",\"ticks\":\"\",\"title\":{\"standoff\":15},\"zerolinecolor\":\"white\",\"automargin\":true,\"zerolinewidth\":2},\"yaxis\":{\"gridcolor\":\"white\",\"linecolor\":\"white\",\"ticks\":\"\",\"title\":{\"standoff\":15},\"zerolinecolor\":\"white\",\"automargin\":true,\"zerolinewidth\":2},\"scene\":{\"xaxis\":{\"backgroundcolor\":\"#E5ECF6\",\"gridcolor\":\"white\",\"linecolor\":\"white\",\"showbackground\":true,\"ticks\":\"\",\"zerolinecolor\":\"white\",\"gridwidth\":2},\"yaxis\":{\"backgroundcolor\":\"#E5ECF6\",\"gridcolor\":\"white\",\"linecolor\":\"white\",\"showbackground\":true,\"ticks\":\"\",\"zerolinecolor\":\"white\",\"gridwidth\":2},\"zaxis\":{\"backgroundcolor\":\"#E5ECF6\",\"gridcolor\":\"white\",\"linecolor\":\"white\",\"showbackground\":true,\"ticks\":\"\",\"zerolinecolor\":\"white\",\"gridwidth\":2}},\"shapedefaults\":{\"line\":{\"color\":\"#2a3f5f\"}},\"annotationdefaults\":{\"arrowcolor\":\"#2a3f5f\",\"arrowhead\":0,\"arrowwidth\":1},\"geo\":{\"bgcolor\":\"white\",\"landcolor\":\"#E5ECF6\",\"subunitcolor\":\"white\",\"showland\":true,\"showlakes\":true,\"lakecolor\":\"white\"},\"title\":{\"x\":0.05},\"mapbox\":{\"style\":\"light\"}}}},                        {\"responsive\": true}                    ).then(function(){\n",
              "                            \n",
              "var gd = document.getElementById('9aef8fdb-4d4e-4c33-9ecb-d3e3eece44c8');\n",
              "var x = new MutationObserver(function (mutations, observer) {{\n",
              "        var display = window.getComputedStyle(gd).display;\n",
              "        if (!display || display === 'none') {{\n",
              "            console.log([gd, 'removed!']);\n",
              "            Plotly.purge(gd);\n",
              "            observer.disconnect();\n",
              "        }}\n",
              "}});\n",
              "\n",
              "// Listen for the removal of the full notebook cells\n",
              "var notebookContainer = gd.closest('#notebook-container');\n",
              "if (notebookContainer) {{\n",
              "    x.observe(notebookContainer, {childList: true});\n",
              "}}\n",
              "\n",
              "// Listen for the clearing of the current output cell\n",
              "var outputEl = gd.closest('.output');\n",
              "if (outputEl) {{\n",
              "    x.observe(outputEl, {childList: true});\n",
              "}}\n",
              "\n",
              "                        })                };                            </script>        </div>\n",
              "</body>\n",
              "</html>"
            ]
          },
          "metadata": {}
        },
        {
          "output_type": "execute_result",
          "data": {
            "text/plain": [
              "'lifeExp.html'"
            ],
            "application/vnd.google.colaboratory.intrinsic+json": {
              "type": "string"
            }
          },
          "metadata": {},
          "execution_count": 6
        }
      ],
      "source": [
        "import plotly\n",
        "import pandas as pd\n",
        "# Load data\n",
        "#df = pd.read_csv(\"finance-charts-apple.csv\")\n",
        "df = pd.read_csv(\"https://raw.githubusercontent.com/10932248/Vs-code/main/COIN.csv\")\n",
        "df.columns = [col.replace(\"AAPL.\", \"\") for col in df.columns]\n",
        "print(df)\n",
        "\n",
        "import plotly.graph_objects as go\n",
        "line1 = go.Scatter(x=df['Date'], y=df['Close'], name='Close')\n",
        "fig  = go.Figure(line1)\n",
        "fig.show()\n",
        "plotly.offline.plot(fig, filename='lifeExp.html')\n",
        "\n",
        "#x=plotly.offline.plot(fig, include_plotlyjs=False, output_type='div')\n",
        "#text_file = open(\"sample.txt\", \"w\")\n",
        "#n = text_file.write(x)\n",
        "#text_file.close()"
      ]
    },
    {
      "cell_type": "code",
      "source": [
        "df.shape"
      ],
      "metadata": {
        "colab": {
          "base_uri": "https://localhost:8080/"
        },
        "id": "a-AOlQ0ly3HL",
        "outputId": "69af73a7-723c-41aa-9e60-994d3e352265"
      },
      "execution_count": 7,
      "outputs": [
        {
          "output_type": "execute_result",
          "data": {
            "text/plain": [
              "(252, 7)"
            ]
          },
          "metadata": {},
          "execution_count": 7
        }
      ]
    },
    {
      "cell_type": "code",
      "source": [
        "df.info()"
      ],
      "metadata": {
        "colab": {
          "base_uri": "https://localhost:8080/"
        },
        "id": "s7SPmaP1y8xC",
        "outputId": "4b62757a-bd4d-4323-d0fe-b160ccaf9cd7"
      },
      "execution_count": 8,
      "outputs": [
        {
          "output_type": "stream",
          "name": "stdout",
          "text": [
            "<class 'pandas.core.frame.DataFrame'>\n",
            "RangeIndex: 252 entries, 0 to 251\n",
            "Data columns (total 7 columns):\n",
            " #   Column     Non-Null Count  Dtype  \n",
            "---  ------     --------------  -----  \n",
            " 0   Date       252 non-null    object \n",
            " 1   Open       252 non-null    float64\n",
            " 2   High       252 non-null    float64\n",
            " 3   Low        252 non-null    float64\n",
            " 4   Close      252 non-null    float64\n",
            " 5   Adj Close  252 non-null    float64\n",
            " 6   Volume     252 non-null    int64  \n",
            "dtypes: float64(5), int64(1), object(1)\n",
            "memory usage: 13.9+ KB\n"
          ]
        }
      ]
    },
    {
      "cell_type": "code",
      "source": [
        "df.describe()"
      ],
      "metadata": {
        "colab": {
          "base_uri": "https://localhost:8080/",
          "height": 300
        },
        "id": "9P96aWpnzE4b",
        "outputId": "3caf2079-1ec4-4130-8216-2e9bc33eb797"
      },
      "execution_count": 9,
      "outputs": [
        {
          "output_type": "execute_result",
          "data": {
            "text/plain": [
              "             Open        High         Low       Close   Adj Close  \\\n",
              "count  252.000000  252.000000  252.000000  252.000000  252.000000   \n",
              "mean    63.474643   66.285357   61.011984   63.598611   63.598611   \n",
              "std     15.825600   16.523951   15.245067   15.832458   15.832458   \n",
              "min     32.580002   33.480000   31.549999   32.529999   32.529999   \n",
              "25%     54.430000   56.377500   52.119999   54.162498   54.162498   \n",
              "50%     62.520000   66.175003   60.570000   62.710001   62.710001   \n",
              "75%     71.110003   73.817501   68.075003   71.227501   71.227501   \n",
              "max    109.260002  114.430000  105.080002  110.150002  110.150002   \n",
              "\n",
              "             Volume  \n",
              "count  2.520000e+02  \n",
              "mean   1.569894e+07  \n",
              "std    8.558560e+06  \n",
              "min    5.967600e+06  \n",
              "25%    1.036300e+07  \n",
              "50%    1.334390e+07  \n",
              "75%    1.836598e+07  \n",
              "max    6.542440e+07  "
            ],
            "text/html": [
              "\n",
              "  <div id=\"df-4567ea9f-2403-42ce-97bd-0fe6639e1f3c\" class=\"colab-df-container\">\n",
              "    <div>\n",
              "<style scoped>\n",
              "    .dataframe tbody tr th:only-of-type {\n",
              "        vertical-align: middle;\n",
              "    }\n",
              "\n",
              "    .dataframe tbody tr th {\n",
              "        vertical-align: top;\n",
              "    }\n",
              "\n",
              "    .dataframe thead th {\n",
              "        text-align: right;\n",
              "    }\n",
              "</style>\n",
              "<table border=\"1\" class=\"dataframe\">\n",
              "  <thead>\n",
              "    <tr style=\"text-align: right;\">\n",
              "      <th></th>\n",
              "      <th>Open</th>\n",
              "      <th>High</th>\n",
              "      <th>Low</th>\n",
              "      <th>Close</th>\n",
              "      <th>Adj Close</th>\n",
              "      <th>Volume</th>\n",
              "    </tr>\n",
              "  </thead>\n",
              "  <tbody>\n",
              "    <tr>\n",
              "      <th>count</th>\n",
              "      <td>252.000000</td>\n",
              "      <td>252.000000</td>\n",
              "      <td>252.000000</td>\n",
              "      <td>252.000000</td>\n",
              "      <td>252.000000</td>\n",
              "      <td>2.520000e+02</td>\n",
              "    </tr>\n",
              "    <tr>\n",
              "      <th>mean</th>\n",
              "      <td>63.474643</td>\n",
              "      <td>66.285357</td>\n",
              "      <td>61.011984</td>\n",
              "      <td>63.598611</td>\n",
              "      <td>63.598611</td>\n",
              "      <td>1.569894e+07</td>\n",
              "    </tr>\n",
              "    <tr>\n",
              "      <th>std</th>\n",
              "      <td>15.825600</td>\n",
              "      <td>16.523951</td>\n",
              "      <td>15.245067</td>\n",
              "      <td>15.832458</td>\n",
              "      <td>15.832458</td>\n",
              "      <td>8.558560e+06</td>\n",
              "    </tr>\n",
              "    <tr>\n",
              "      <th>min</th>\n",
              "      <td>32.580002</td>\n",
              "      <td>33.480000</td>\n",
              "      <td>31.549999</td>\n",
              "      <td>32.529999</td>\n",
              "      <td>32.529999</td>\n",
              "      <td>5.967600e+06</td>\n",
              "    </tr>\n",
              "    <tr>\n",
              "      <th>25%</th>\n",
              "      <td>54.430000</td>\n",
              "      <td>56.377500</td>\n",
              "      <td>52.119999</td>\n",
              "      <td>54.162498</td>\n",
              "      <td>54.162498</td>\n",
              "      <td>1.036300e+07</td>\n",
              "    </tr>\n",
              "    <tr>\n",
              "      <th>50%</th>\n",
              "      <td>62.520000</td>\n",
              "      <td>66.175003</td>\n",
              "      <td>60.570000</td>\n",
              "      <td>62.710001</td>\n",
              "      <td>62.710001</td>\n",
              "      <td>1.334390e+07</td>\n",
              "    </tr>\n",
              "    <tr>\n",
              "      <th>75%</th>\n",
              "      <td>71.110003</td>\n",
              "      <td>73.817501</td>\n",
              "      <td>68.075003</td>\n",
              "      <td>71.227501</td>\n",
              "      <td>71.227501</td>\n",
              "      <td>1.836598e+07</td>\n",
              "    </tr>\n",
              "    <tr>\n",
              "      <th>max</th>\n",
              "      <td>109.260002</td>\n",
              "      <td>114.430000</td>\n",
              "      <td>105.080002</td>\n",
              "      <td>110.150002</td>\n",
              "      <td>110.150002</td>\n",
              "      <td>6.542440e+07</td>\n",
              "    </tr>\n",
              "  </tbody>\n",
              "</table>\n",
              "</div>\n",
              "    <div class=\"colab-df-buttons\">\n",
              "\n",
              "  <div class=\"colab-df-container\">\n",
              "    <button class=\"colab-df-convert\" onclick=\"convertToInteractive('df-4567ea9f-2403-42ce-97bd-0fe6639e1f3c')\"\n",
              "            title=\"Convert this dataframe to an interactive table.\"\n",
              "            style=\"display:none;\">\n",
              "\n",
              "  <svg xmlns=\"http://www.w3.org/2000/svg\" height=\"24px\" viewBox=\"0 -960 960 960\">\n",
              "    <path d=\"M120-120v-720h720v720H120Zm60-500h600v-160H180v160Zm220 220h160v-160H400v160Zm0 220h160v-160H400v160ZM180-400h160v-160H180v160Zm440 0h160v-160H620v160ZM180-180h160v-160H180v160Zm440 0h160v-160H620v160Z\"/>\n",
              "  </svg>\n",
              "    </button>\n",
              "\n",
              "  <style>\n",
              "    .colab-df-container {\n",
              "      display:flex;\n",
              "      gap: 12px;\n",
              "    }\n",
              "\n",
              "    .colab-df-convert {\n",
              "      background-color: #E8F0FE;\n",
              "      border: none;\n",
              "      border-radius: 50%;\n",
              "      cursor: pointer;\n",
              "      display: none;\n",
              "      fill: #1967D2;\n",
              "      height: 32px;\n",
              "      padding: 0 0 0 0;\n",
              "      width: 32px;\n",
              "    }\n",
              "\n",
              "    .colab-df-convert:hover {\n",
              "      background-color: #E2EBFA;\n",
              "      box-shadow: 0px 1px 2px rgba(60, 64, 67, 0.3), 0px 1px 3px 1px rgba(60, 64, 67, 0.15);\n",
              "      fill: #174EA6;\n",
              "    }\n",
              "\n",
              "    .colab-df-buttons div {\n",
              "      margin-bottom: 4px;\n",
              "    }\n",
              "\n",
              "    [theme=dark] .colab-df-convert {\n",
              "      background-color: #3B4455;\n",
              "      fill: #D2E3FC;\n",
              "    }\n",
              "\n",
              "    [theme=dark] .colab-df-convert:hover {\n",
              "      background-color: #434B5C;\n",
              "      box-shadow: 0px 1px 3px 1px rgba(0, 0, 0, 0.15);\n",
              "      filter: drop-shadow(0px 1px 2px rgba(0, 0, 0, 0.3));\n",
              "      fill: #FFFFFF;\n",
              "    }\n",
              "  </style>\n",
              "\n",
              "    <script>\n",
              "      const buttonEl =\n",
              "        document.querySelector('#df-4567ea9f-2403-42ce-97bd-0fe6639e1f3c button.colab-df-convert');\n",
              "      buttonEl.style.display =\n",
              "        google.colab.kernel.accessAllowed ? 'block' : 'none';\n",
              "\n",
              "      async function convertToInteractive(key) {\n",
              "        const element = document.querySelector('#df-4567ea9f-2403-42ce-97bd-0fe6639e1f3c');\n",
              "        const dataTable =\n",
              "          await google.colab.kernel.invokeFunction('convertToInteractive',\n",
              "                                                    [key], {});\n",
              "        if (!dataTable) return;\n",
              "\n",
              "        const docLinkHtml = 'Like what you see? Visit the ' +\n",
              "          '<a target=\"_blank\" href=https://colab.research.google.com/notebooks/data_table.ipynb>data table notebook</a>'\n",
              "          + ' to learn more about interactive tables.';\n",
              "        element.innerHTML = '';\n",
              "        dataTable['output_type'] = 'display_data';\n",
              "        await google.colab.output.renderOutput(dataTable, element);\n",
              "        const docLink = document.createElement('div');\n",
              "        docLink.innerHTML = docLinkHtml;\n",
              "        element.appendChild(docLink);\n",
              "      }\n",
              "    </script>\n",
              "  </div>\n",
              "\n",
              "\n",
              "<div id=\"df-08529127-868b-422b-bc32-2480e44c0895\">\n",
              "  <button class=\"colab-df-quickchart\" onclick=\"quickchart('df-08529127-868b-422b-bc32-2480e44c0895')\"\n",
              "            title=\"Suggest charts.\"\n",
              "            style=\"display:none;\">\n",
              "\n",
              "<svg xmlns=\"http://www.w3.org/2000/svg\" height=\"24px\"viewBox=\"0 0 24 24\"\n",
              "     width=\"24px\">\n",
              "    <g>\n",
              "        <path d=\"M19 3H5c-1.1 0-2 .9-2 2v14c0 1.1.9 2 2 2h14c1.1 0 2-.9 2-2V5c0-1.1-.9-2-2-2zM9 17H7v-7h2v7zm4 0h-2V7h2v10zm4 0h-2v-4h2v4z\"/>\n",
              "    </g>\n",
              "</svg>\n",
              "  </button>\n",
              "\n",
              "<style>\n",
              "  .colab-df-quickchart {\n",
              "    background-color: #E8F0FE;\n",
              "    border: none;\n",
              "    border-radius: 50%;\n",
              "    cursor: pointer;\n",
              "    display: none;\n",
              "    fill: #1967D2;\n",
              "    height: 32px;\n",
              "    padding: 0 0 0 0;\n",
              "    width: 32px;\n",
              "  }\n",
              "\n",
              "  .colab-df-quickchart:hover {\n",
              "    background-color: #E2EBFA;\n",
              "    box-shadow: 0px 1px 2px rgba(60, 64, 67, 0.3), 0px 1px 3px 1px rgba(60, 64, 67, 0.15);\n",
              "    fill: #174EA6;\n",
              "  }\n",
              "\n",
              "  [theme=dark] .colab-df-quickchart {\n",
              "    background-color: #3B4455;\n",
              "    fill: #D2E3FC;\n",
              "  }\n",
              "\n",
              "  [theme=dark] .colab-df-quickchart:hover {\n",
              "    background-color: #434B5C;\n",
              "    box-shadow: 0px 1px 3px 1px rgba(0, 0, 0, 0.15);\n",
              "    filter: drop-shadow(0px 1px 2px rgba(0, 0, 0, 0.3));\n",
              "    fill: #FFFFFF;\n",
              "  }\n",
              "</style>\n",
              "\n",
              "  <script>\n",
              "    async function quickchart(key) {\n",
              "      const charts = await google.colab.kernel.invokeFunction(\n",
              "          'suggestCharts', [key], {});\n",
              "    }\n",
              "    (() => {\n",
              "      let quickchartButtonEl =\n",
              "        document.querySelector('#df-08529127-868b-422b-bc32-2480e44c0895 button');\n",
              "      quickchartButtonEl.style.display =\n",
              "        google.colab.kernel.accessAllowed ? 'block' : 'none';\n",
              "    })();\n",
              "  </script>\n",
              "</div>\n",
              "    </div>\n",
              "  </div>\n"
            ]
          },
          "metadata": {},
          "execution_count": 9
        }
      ]
    },
    {
      "cell_type": "code",
      "source": [
        "df.head"
      ],
      "metadata": {
        "colab": {
          "base_uri": "https://localhost:8080/"
        },
        "id": "ek10r1vzzQtF",
        "outputId": "87a8f7ab-749d-4255-f032-f175f5abaa13"
      },
      "execution_count": 10,
      "outputs": [
        {
          "output_type": "execute_result",
          "data": {
            "text/plain": [
              "<bound method NDFrame.head of           Date       Open       High        Low      Close  Adj Close  \\\n",
              "0     2022/8/9  93.889999  93.889999  85.599998  87.680000  87.680000   \n",
              "1    2022/8/10  89.980003  95.000000  88.000000  94.139999  94.139999   \n",
              "2    2022/8/11  97.250000  98.699997  82.309998  84.000000  84.000000   \n",
              "3    2022/8/12  85.230003  92.480003  83.290001  90.489998  90.489998   \n",
              "4    2022/8/15  89.110001  93.680000  88.589996  91.970001  91.970001   \n",
              "..         ...        ...        ...        ...        ...        ...   \n",
              "247   2023/8/3  89.000000  93.440002  88.459999  90.750000  90.750000   \n",
              "248   2023/8/4  89.000000  94.290001  86.699997  87.309998  87.309998   \n",
              "249   2023/8/7  87.199997  87.300003  82.089996  85.959999  85.959999   \n",
              "250   2023/8/8  87.089996  88.989998  84.550003  88.040001  88.040001   \n",
              "251   2023/8/9  88.529999  88.900002  84.080002  84.339996  84.339996   \n",
              "\n",
              "       Volume  \n",
              "0    17411400  \n",
              "1    23818200  \n",
              "2    23247300  \n",
              "3    13755200  \n",
              "4    11001900  \n",
              "..        ...  \n",
              "247  10297200  \n",
              "248  13187100  \n",
              "249  10019500  \n",
              "250   8986900  \n",
              "251   7960700  \n",
              "\n",
              "[252 rows x 7 columns]>"
            ]
          },
          "metadata": {},
          "execution_count": 10
        }
      ]
    },
    {
      "cell_type": "code",
      "source": [
        "type(df.Date)"
      ],
      "metadata": {
        "colab": {
          "base_uri": "https://localhost:8080/"
        },
        "id": "oMk0-7h5zVOV",
        "outputId": "25adccc8-b69e-4d4d-8be7-8aae607e7ab4"
      },
      "execution_count": 11,
      "outputs": [
        {
          "output_type": "execute_result",
          "data": {
            "text/plain": [
              "pandas.core.series.Series"
            ]
          },
          "metadata": {},
          "execution_count": 11
        }
      ]
    },
    {
      "cell_type": "code",
      "source": [
        "df['Date'] = pd.to_datetime(df['Date'])\n",
        "df['Date'] > pd.to_datetime('2022/10/3')"
      ],
      "metadata": {
        "colab": {
          "base_uri": "https://localhost:8080/"
        },
        "id": "y8er20UYzZzn",
        "outputId": "9ea21817-def3-490b-92ba-a5bc69b4b256"
      },
      "execution_count": 12,
      "outputs": [
        {
          "output_type": "execute_result",
          "data": {
            "text/plain": [
              "0      False\n",
              "1      False\n",
              "2      False\n",
              "3      False\n",
              "4      False\n",
              "       ...  \n",
              "247     True\n",
              "248     True\n",
              "249     True\n",
              "250     True\n",
              "251     True\n",
              "Name: Date, Length: 252, dtype: bool"
            ]
          },
          "metadata": {},
          "execution_count": 12
        }
      ]
    },
    {
      "cell_type": "code",
      "source": [
        "df1=df[df['Date'] > pd.to_datetime('2022/10/3')]"
      ],
      "metadata": {
        "id": "Q-ReF2j010_r"
      },
      "execution_count": 13,
      "outputs": []
    },
    {
      "cell_type": "code",
      "source": [
        "line1 = go.Scatter(x=df1['Date'], y=df1['Close'], name='Close')\n",
        "fig  = go.Figure(line1)\n",
        "fig.show()\n",
        "plotly.offline.plot(fig, filename='lifeExp1.html')"
      ],
      "metadata": {
        "colab": {
          "base_uri": "https://localhost:8080/",
          "height": 560
        },
        "id": "SLOMY_RB2HTk",
        "outputId": "2a7029d1-df04-44ad-cc9f-4457919a257f"
      },
      "execution_count": 14,
      "outputs": [
        {
          "output_type": "display_data",
          "data": {
            "text/html": [
              "<html>\n",
              "<head><meta charset=\"utf-8\" /></head>\n",
              "<body>\n",
              "    <div>            <script src=\"https://cdnjs.cloudflare.com/ajax/libs/mathjax/2.7.5/MathJax.js?config=TeX-AMS-MML_SVG\"></script><script type=\"text/javascript\">if (window.MathJax && window.MathJax.Hub && window.MathJax.Hub.Config) {window.MathJax.Hub.Config({SVG: {font: \"STIX-Web\"}});}</script>                <script type=\"text/javascript\">window.PlotlyConfig = {MathJaxConfig: 'local'};</script>\n",
              "        <script charset=\"utf-8\" src=\"https://cdn.plot.ly/plotly-2.24.1.min.js\"></script>                <div id=\"67b86a83-0cc6-4d0e-8511-3e7e004c6bac\" class=\"plotly-graph-div\" style=\"height:525px; width:100%;\"></div>            <script type=\"text/javascript\">                                    window.PLOTLYENV=window.PLOTLYENV || {};                                    if (document.getElementById(\"67b86a83-0cc6-4d0e-8511-3e7e004c6bac\")) {                    Plotly.newPlot(                        \"67b86a83-0cc6-4d0e-8511-3e7e004c6bac\",                        [{\"name\":\"Close\",\"x\":[\"2022-10-04T00:00:00\",\"2022-10-05T00:00:00\",\"2022-10-06T00:00:00\",\"2022-10-07T00:00:00\",\"2022-10-10T00:00:00\",\"2022-10-11T00:00:00\",\"2022-10-12T00:00:00\",\"2022-10-13T00:00:00\",\"2022-10-14T00:00:00\",\"2022-10-17T00:00:00\",\"2022-10-18T00:00:00\",\"2022-10-19T00:00:00\",\"2022-10-20T00:00:00\",\"2022-10-21T00:00:00\",\"2022-10-24T00:00:00\",\"2022-10-25T00:00:00\",\"2022-10-26T00:00:00\",\"2022-10-27T00:00:00\",\"2022-10-28T00:00:00\",\"2022-10-31T00:00:00\",\"2022-11-01T00:00:00\",\"2022-11-02T00:00:00\",\"2022-11-03T00:00:00\",\"2022-11-04T00:00:00\",\"2022-11-07T00:00:00\",\"2022-11-08T00:00:00\",\"2022-11-09T00:00:00\",\"2022-11-10T00:00:00\",\"2022-11-11T00:00:00\",\"2022-11-14T00:00:00\",\"2022-11-15T00:00:00\",\"2022-11-16T00:00:00\",\"2022-11-17T00:00:00\",\"2022-11-18T00:00:00\",\"2022-11-21T00:00:00\",\"2022-11-22T00:00:00\",\"2022-11-23T00:00:00\",\"2022-11-25T00:00:00\",\"2022-11-28T00:00:00\",\"2022-11-29T00:00:00\",\"2022-11-30T00:00:00\",\"2022-12-01T00:00:00\",\"2022-12-02T00:00:00\",\"2022-12-05T00:00:00\",\"2022-12-06T00:00:00\",\"2022-12-07T00:00:00\",\"2022-12-08T00:00:00\",\"2022-12-09T00:00:00\",\"2022-12-12T00:00:00\",\"2022-12-13T00:00:00\",\"2022-12-14T00:00:00\",\"2022-12-15T00:00:00\",\"2022-12-16T00:00:00\",\"2022-12-19T00:00:00\",\"2022-12-20T00:00:00\",\"2022-12-21T00:00:00\",\"2022-12-22T00:00:00\",\"2022-12-23T00:00:00\",\"2022-12-27T00:00:00\",\"2022-12-28T00:00:00\",\"2022-12-29T00:00:00\",\"2022-12-30T00:00:00\",\"2023-01-03T00:00:00\",\"2023-01-04T00:00:00\",\"2023-01-05T00:00:00\",\"2023-01-06T00:00:00\",\"2023-01-09T00:00:00\",\"2023-01-10T00:00:00\",\"2023-01-11T00:00:00\",\"2023-01-12T00:00:00\",\"2023-01-13T00:00:00\",\"2023-01-17T00:00:00\",\"2023-01-18T00:00:00\",\"2023-01-19T00:00:00\",\"2023-01-20T00:00:00\",\"2023-01-23T00:00:00\",\"2023-01-24T00:00:00\",\"2023-01-25T00:00:00\",\"2023-01-26T00:00:00\",\"2023-01-27T00:00:00\",\"2023-01-30T00:00:00\",\"2023-01-31T00:00:00\",\"2023-02-01T00:00:00\",\"2023-02-02T00:00:00\",\"2023-02-03T00:00:00\",\"2023-02-06T00:00:00\",\"2023-02-07T00:00:00\",\"2023-02-08T00:00:00\",\"2023-02-09T00:00:00\",\"2023-02-10T00:00:00\",\"2023-02-13T00:00:00\",\"2023-02-14T00:00:00\",\"2023-02-15T00:00:00\",\"2023-02-16T00:00:00\",\"2023-02-17T00:00:00\",\"2023-02-21T00:00:00\",\"2023-02-22T00:00:00\",\"2023-02-23T00:00:00\",\"2023-02-24T00:00:00\",\"2023-02-27T00:00:00\",\"2023-02-28T00:00:00\",\"2023-03-01T00:00:00\",\"2023-03-02T00:00:00\",\"2023-03-03T00:00:00\",\"2023-03-06T00:00:00\",\"2023-03-07T00:00:00\",\"2023-03-08T00:00:00\",\"2023-03-09T00:00:00\",\"2023-03-10T00:00:00\",\"2023-03-13T00:00:00\",\"2023-03-14T00:00:00\",\"2023-03-15T00:00:00\",\"2023-03-16T00:00:00\",\"2023-03-17T00:00:00\",\"2023-03-20T00:00:00\",\"2023-03-21T00:00:00\",\"2023-03-22T00:00:00\",\"2023-03-23T00:00:00\",\"2023-03-24T00:00:00\",\"2023-03-27T00:00:00\",\"2023-03-28T00:00:00\",\"2023-03-29T00:00:00\",\"2023-03-30T00:00:00\",\"2023-03-31T00:00:00\",\"2023-04-03T00:00:00\",\"2023-04-04T00:00:00\",\"2023-04-05T00:00:00\",\"2023-04-06T00:00:00\",\"2023-04-10T00:00:00\",\"2023-04-11T00:00:00\",\"2023-04-12T00:00:00\",\"2023-04-13T00:00:00\",\"2023-04-14T00:00:00\",\"2023-04-17T00:00:00\",\"2023-04-18T00:00:00\",\"2023-04-19T00:00:00\",\"2023-04-20T00:00:00\",\"2023-04-21T00:00:00\",\"2023-04-24T00:00:00\",\"2023-04-25T00:00:00\",\"2023-04-26T00:00:00\",\"2023-04-27T00:00:00\",\"2023-04-28T00:00:00\",\"2023-05-01T00:00:00\",\"2023-05-02T00:00:00\",\"2023-05-03T00:00:00\",\"2023-05-04T00:00:00\",\"2023-05-05T00:00:00\",\"2023-05-08T00:00:00\",\"2023-05-09T00:00:00\",\"2023-05-10T00:00:00\",\"2023-05-11T00:00:00\",\"2023-05-12T00:00:00\",\"2023-05-15T00:00:00\",\"2023-05-16T00:00:00\",\"2023-05-17T00:00:00\",\"2023-05-18T00:00:00\",\"2023-05-19T00:00:00\",\"2023-05-22T00:00:00\",\"2023-05-23T00:00:00\",\"2023-05-24T00:00:00\",\"2023-05-25T00:00:00\",\"2023-05-26T00:00:00\",\"2023-05-30T00:00:00\",\"2023-05-31T00:00:00\",\"2023-06-01T00:00:00\",\"2023-06-02T00:00:00\",\"2023-06-05T00:00:00\",\"2023-06-06T00:00:00\",\"2023-06-07T00:00:00\",\"2023-06-08T00:00:00\",\"2023-06-09T00:00:00\",\"2023-06-12T00:00:00\",\"2023-06-13T00:00:00\",\"2023-06-14T00:00:00\",\"2023-06-15T00:00:00\",\"2023-06-16T00:00:00\",\"2023-06-20T00:00:00\",\"2023-06-21T00:00:00\",\"2023-06-22T00:00:00\",\"2023-06-23T00:00:00\",\"2023-06-26T00:00:00\",\"2023-06-27T00:00:00\",\"2023-06-28T00:00:00\",\"2023-06-29T00:00:00\",\"2023-06-30T00:00:00\",\"2023-07-03T00:00:00\",\"2023-07-05T00:00:00\",\"2023-07-06T00:00:00\",\"2023-07-07T00:00:00\",\"2023-07-10T00:00:00\",\"2023-07-11T00:00:00\",\"2023-07-12T00:00:00\",\"2023-07-13T00:00:00\",\"2023-07-14T00:00:00\",\"2023-07-17T00:00:00\",\"2023-07-18T00:00:00\",\"2023-07-19T00:00:00\",\"2023-07-20T00:00:00\",\"2023-07-21T00:00:00\",\"2023-07-24T00:00:00\",\"2023-07-25T00:00:00\",\"2023-07-26T00:00:00\",\"2023-07-27T00:00:00\",\"2023-07-28T00:00:00\",\"2023-07-31T00:00:00\",\"2023-08-01T00:00:00\",\"2023-08-02T00:00:00\",\"2023-08-03T00:00:00\",\"2023-08-04T00:00:00\",\"2023-08-07T00:00:00\",\"2023-08-08T00:00:00\",\"2023-08-09T00:00:00\"],\"y\":[74.5,72.970001,73.910004,67.0,67.040001,70.160004,69.949997,69.260002,63.59,69.169998,66.209999,63.189999,63.59,66.379997,66.389999,75.050003,73.809998,72.470001,72.07,66.25,63.290001,60.709999,55.799999,58.82,56.970001,50.830002,45.98,50.919998,57.459999,53.220001,55.529999,48.830002,48.790001,45.259998,41.23,43.389999,45.57,44.279999,42.509998,43.110001,45.73,45.27,47.669998,46.0,42.41,41.259998,42.810001,40.240002,42.599998,38.689999,40.189999,37.98,36.599998,35.169998,34.970001,35.150002,34.59,35.490002,32.650002,32.529999,34.779999,35.389999,33.599998,37.700001,33.529999,33.259998,38.27,43.23,43.790001,47.549999,49.98,54.139999,50.209999,49.419998,55.16,55.959999,53.560001,52.759998,53.02,61.369999,56.16,58.48,65.699997,81.459999,74.629997,74.589996,71.419998,69.440002,59.630001,57.09,56.400002,59.029999,69.339996,65.589996,65.199997,62.07,61.18,62.360001,58.439999,58.959999,64.830002,64.669998,63.700001,64.510002,62.77,61.889999,63.009998,58.09,53.439999,59.169998,62.650002,64.470001,67.779999,74.980003,75.139999,83.989998,77.139999,66.300003,67.830002,62.540001,63.040001,65.300003,64.160004,67.57,63.610001,62.540001,60.779999,61.439999,66.129997,70.190002,67.839996,68.949997,69.910004,67.720001,67.260002,64.440002,60.5,59.040001,54.75,55.549999,53.889999,54.169998,53.790001,50.139999,51.32,48.490002,49.220001,58.240002,58.099998,60.209999,62.639999,60.349998,57.34,60.77,57.880001,61.040001,60.259998,56.779999,61.07,59.099998,58.360001,56.869999,56.919998,61.169998,62.200001,63.57,64.550003,58.709999,51.610001,53.259998,54.900002,53.279999,50.560001,52.400002,53.900002,54.25,55.59,57.09,58.099998,57.490002,61.470001,61.939999,69.889999,70.75,72.43,71.550003,79.93,78.349998,78.099998,78.720001,81.209999,89.150002,85.949997,107.0,105.309998,105.550003,104.589996,110.150002,101.260002,100.82,98.849998,97.68,99.75,92.690002,94.760002,98.610001,94.150002,90.43,90.75,87.309998,85.959999,88.040001,84.339996],\"type\":\"scatter\"}],                        {\"template\":{\"data\":{\"histogram2dcontour\":[{\"type\":\"histogram2dcontour\",\"colorbar\":{\"outlinewidth\":0,\"ticks\":\"\"},\"colorscale\":[[0.0,\"#0d0887\"],[0.1111111111111111,\"#46039f\"],[0.2222222222222222,\"#7201a8\"],[0.3333333333333333,\"#9c179e\"],[0.4444444444444444,\"#bd3786\"],[0.5555555555555556,\"#d8576b\"],[0.6666666666666666,\"#ed7953\"],[0.7777777777777778,\"#fb9f3a\"],[0.8888888888888888,\"#fdca26\"],[1.0,\"#f0f921\"]]}],\"choropleth\":[{\"type\":\"choropleth\",\"colorbar\":{\"outlinewidth\":0,\"ticks\":\"\"}}],\"histogram2d\":[{\"type\":\"histogram2d\",\"colorbar\":{\"outlinewidth\":0,\"ticks\":\"\"},\"colorscale\":[[0.0,\"#0d0887\"],[0.1111111111111111,\"#46039f\"],[0.2222222222222222,\"#7201a8\"],[0.3333333333333333,\"#9c179e\"],[0.4444444444444444,\"#bd3786\"],[0.5555555555555556,\"#d8576b\"],[0.6666666666666666,\"#ed7953\"],[0.7777777777777778,\"#fb9f3a\"],[0.8888888888888888,\"#fdca26\"],[1.0,\"#f0f921\"]]}],\"heatmap\":[{\"type\":\"heatmap\",\"colorbar\":{\"outlinewidth\":0,\"ticks\":\"\"},\"colorscale\":[[0.0,\"#0d0887\"],[0.1111111111111111,\"#46039f\"],[0.2222222222222222,\"#7201a8\"],[0.3333333333333333,\"#9c179e\"],[0.4444444444444444,\"#bd3786\"],[0.5555555555555556,\"#d8576b\"],[0.6666666666666666,\"#ed7953\"],[0.7777777777777778,\"#fb9f3a\"],[0.8888888888888888,\"#fdca26\"],[1.0,\"#f0f921\"]]}],\"heatmapgl\":[{\"type\":\"heatmapgl\",\"colorbar\":{\"outlinewidth\":0,\"ticks\":\"\"},\"colorscale\":[[0.0,\"#0d0887\"],[0.1111111111111111,\"#46039f\"],[0.2222222222222222,\"#7201a8\"],[0.3333333333333333,\"#9c179e\"],[0.4444444444444444,\"#bd3786\"],[0.5555555555555556,\"#d8576b\"],[0.6666666666666666,\"#ed7953\"],[0.7777777777777778,\"#fb9f3a\"],[0.8888888888888888,\"#fdca26\"],[1.0,\"#f0f921\"]]}],\"contourcarpet\":[{\"type\":\"contourcarpet\",\"colorbar\":{\"outlinewidth\":0,\"ticks\":\"\"}}],\"contour\":[{\"type\":\"contour\",\"colorbar\":{\"outlinewidth\":0,\"ticks\":\"\"},\"colorscale\":[[0.0,\"#0d0887\"],[0.1111111111111111,\"#46039f\"],[0.2222222222222222,\"#7201a8\"],[0.3333333333333333,\"#9c179e\"],[0.4444444444444444,\"#bd3786\"],[0.5555555555555556,\"#d8576b\"],[0.6666666666666666,\"#ed7953\"],[0.7777777777777778,\"#fb9f3a\"],[0.8888888888888888,\"#fdca26\"],[1.0,\"#f0f921\"]]}],\"surface\":[{\"type\":\"surface\",\"colorbar\":{\"outlinewidth\":0,\"ticks\":\"\"},\"colorscale\":[[0.0,\"#0d0887\"],[0.1111111111111111,\"#46039f\"],[0.2222222222222222,\"#7201a8\"],[0.3333333333333333,\"#9c179e\"],[0.4444444444444444,\"#bd3786\"],[0.5555555555555556,\"#d8576b\"],[0.6666666666666666,\"#ed7953\"],[0.7777777777777778,\"#fb9f3a\"],[0.8888888888888888,\"#fdca26\"],[1.0,\"#f0f921\"]]}],\"mesh3d\":[{\"type\":\"mesh3d\",\"colorbar\":{\"outlinewidth\":0,\"ticks\":\"\"}}],\"scatter\":[{\"fillpattern\":{\"fillmode\":\"overlay\",\"size\":10,\"solidity\":0.2},\"type\":\"scatter\"}],\"parcoords\":[{\"type\":\"parcoords\",\"line\":{\"colorbar\":{\"outlinewidth\":0,\"ticks\":\"\"}}}],\"scatterpolargl\":[{\"type\":\"scatterpolargl\",\"marker\":{\"colorbar\":{\"outlinewidth\":0,\"ticks\":\"\"}}}],\"bar\":[{\"error_x\":{\"color\":\"#2a3f5f\"},\"error_y\":{\"color\":\"#2a3f5f\"},\"marker\":{\"line\":{\"color\":\"#E5ECF6\",\"width\":0.5},\"pattern\":{\"fillmode\":\"overlay\",\"size\":10,\"solidity\":0.2}},\"type\":\"bar\"}],\"scattergeo\":[{\"type\":\"scattergeo\",\"marker\":{\"colorbar\":{\"outlinewidth\":0,\"ticks\":\"\"}}}],\"scatterpolar\":[{\"type\":\"scatterpolar\",\"marker\":{\"colorbar\":{\"outlinewidth\":0,\"ticks\":\"\"}}}],\"histogram\":[{\"marker\":{\"pattern\":{\"fillmode\":\"overlay\",\"size\":10,\"solidity\":0.2}},\"type\":\"histogram\"}],\"scattergl\":[{\"type\":\"scattergl\",\"marker\":{\"colorbar\":{\"outlinewidth\":0,\"ticks\":\"\"}}}],\"scatter3d\":[{\"type\":\"scatter3d\",\"line\":{\"colorbar\":{\"outlinewidth\":0,\"ticks\":\"\"}},\"marker\":{\"colorbar\":{\"outlinewidth\":0,\"ticks\":\"\"}}}],\"scattermapbox\":[{\"type\":\"scattermapbox\",\"marker\":{\"colorbar\":{\"outlinewidth\":0,\"ticks\":\"\"}}}],\"scatterternary\":[{\"type\":\"scatterternary\",\"marker\":{\"colorbar\":{\"outlinewidth\":0,\"ticks\":\"\"}}}],\"scattercarpet\":[{\"type\":\"scattercarpet\",\"marker\":{\"colorbar\":{\"outlinewidth\":0,\"ticks\":\"\"}}}],\"carpet\":[{\"aaxis\":{\"endlinecolor\":\"#2a3f5f\",\"gridcolor\":\"white\",\"linecolor\":\"white\",\"minorgridcolor\":\"white\",\"startlinecolor\":\"#2a3f5f\"},\"baxis\":{\"endlinecolor\":\"#2a3f5f\",\"gridcolor\":\"white\",\"linecolor\":\"white\",\"minorgridcolor\":\"white\",\"startlinecolor\":\"#2a3f5f\"},\"type\":\"carpet\"}],\"table\":[{\"cells\":{\"fill\":{\"color\":\"#EBF0F8\"},\"line\":{\"color\":\"white\"}},\"header\":{\"fill\":{\"color\":\"#C8D4E3\"},\"line\":{\"color\":\"white\"}},\"type\":\"table\"}],\"barpolar\":[{\"marker\":{\"line\":{\"color\":\"#E5ECF6\",\"width\":0.5},\"pattern\":{\"fillmode\":\"overlay\",\"size\":10,\"solidity\":0.2}},\"type\":\"barpolar\"}],\"pie\":[{\"automargin\":true,\"type\":\"pie\"}]},\"layout\":{\"autotypenumbers\":\"strict\",\"colorway\":[\"#636efa\",\"#EF553B\",\"#00cc96\",\"#ab63fa\",\"#FFA15A\",\"#19d3f3\",\"#FF6692\",\"#B6E880\",\"#FF97FF\",\"#FECB52\"],\"font\":{\"color\":\"#2a3f5f\"},\"hovermode\":\"closest\",\"hoverlabel\":{\"align\":\"left\"},\"paper_bgcolor\":\"white\",\"plot_bgcolor\":\"#E5ECF6\",\"polar\":{\"bgcolor\":\"#E5ECF6\",\"angularaxis\":{\"gridcolor\":\"white\",\"linecolor\":\"white\",\"ticks\":\"\"},\"radialaxis\":{\"gridcolor\":\"white\",\"linecolor\":\"white\",\"ticks\":\"\"}},\"ternary\":{\"bgcolor\":\"#E5ECF6\",\"aaxis\":{\"gridcolor\":\"white\",\"linecolor\":\"white\",\"ticks\":\"\"},\"baxis\":{\"gridcolor\":\"white\",\"linecolor\":\"white\",\"ticks\":\"\"},\"caxis\":{\"gridcolor\":\"white\",\"linecolor\":\"white\",\"ticks\":\"\"}},\"coloraxis\":{\"colorbar\":{\"outlinewidth\":0,\"ticks\":\"\"}},\"colorscale\":{\"sequential\":[[0.0,\"#0d0887\"],[0.1111111111111111,\"#46039f\"],[0.2222222222222222,\"#7201a8\"],[0.3333333333333333,\"#9c179e\"],[0.4444444444444444,\"#bd3786\"],[0.5555555555555556,\"#d8576b\"],[0.6666666666666666,\"#ed7953\"],[0.7777777777777778,\"#fb9f3a\"],[0.8888888888888888,\"#fdca26\"],[1.0,\"#f0f921\"]],\"sequentialminus\":[[0.0,\"#0d0887\"],[0.1111111111111111,\"#46039f\"],[0.2222222222222222,\"#7201a8\"],[0.3333333333333333,\"#9c179e\"],[0.4444444444444444,\"#bd3786\"],[0.5555555555555556,\"#d8576b\"],[0.6666666666666666,\"#ed7953\"],[0.7777777777777778,\"#fb9f3a\"],[0.8888888888888888,\"#fdca26\"],[1.0,\"#f0f921\"]],\"diverging\":[[0,\"#8e0152\"],[0.1,\"#c51b7d\"],[0.2,\"#de77ae\"],[0.3,\"#f1b6da\"],[0.4,\"#fde0ef\"],[0.5,\"#f7f7f7\"],[0.6,\"#e6f5d0\"],[0.7,\"#b8e186\"],[0.8,\"#7fbc41\"],[0.9,\"#4d9221\"],[1,\"#276419\"]]},\"xaxis\":{\"gridcolor\":\"white\",\"linecolor\":\"white\",\"ticks\":\"\",\"title\":{\"standoff\":15},\"zerolinecolor\":\"white\",\"automargin\":true,\"zerolinewidth\":2},\"yaxis\":{\"gridcolor\":\"white\",\"linecolor\":\"white\",\"ticks\":\"\",\"title\":{\"standoff\":15},\"zerolinecolor\":\"white\",\"automargin\":true,\"zerolinewidth\":2},\"scene\":{\"xaxis\":{\"backgroundcolor\":\"#E5ECF6\",\"gridcolor\":\"white\",\"linecolor\":\"white\",\"showbackground\":true,\"ticks\":\"\",\"zerolinecolor\":\"white\",\"gridwidth\":2},\"yaxis\":{\"backgroundcolor\":\"#E5ECF6\",\"gridcolor\":\"white\",\"linecolor\":\"white\",\"showbackground\":true,\"ticks\":\"\",\"zerolinecolor\":\"white\",\"gridwidth\":2},\"zaxis\":{\"backgroundcolor\":\"#E5ECF6\",\"gridcolor\":\"white\",\"linecolor\":\"white\",\"showbackground\":true,\"ticks\":\"\",\"zerolinecolor\":\"white\",\"gridwidth\":2}},\"shapedefaults\":{\"line\":{\"color\":\"#2a3f5f\"}},\"annotationdefaults\":{\"arrowcolor\":\"#2a3f5f\",\"arrowhead\":0,\"arrowwidth\":1},\"geo\":{\"bgcolor\":\"white\",\"landcolor\":\"#E5ECF6\",\"subunitcolor\":\"white\",\"showland\":true,\"showlakes\":true,\"lakecolor\":\"white\"},\"title\":{\"x\":0.05},\"mapbox\":{\"style\":\"light\"}}}},                        {\"responsive\": true}                    ).then(function(){\n",
              "                            \n",
              "var gd = document.getElementById('67b86a83-0cc6-4d0e-8511-3e7e004c6bac');\n",
              "var x = new MutationObserver(function (mutations, observer) {{\n",
              "        var display = window.getComputedStyle(gd).display;\n",
              "        if (!display || display === 'none') {{\n",
              "            console.log([gd, 'removed!']);\n",
              "            Plotly.purge(gd);\n",
              "            observer.disconnect();\n",
              "        }}\n",
              "}});\n",
              "\n",
              "// Listen for the removal of the full notebook cells\n",
              "var notebookContainer = gd.closest('#notebook-container');\n",
              "if (notebookContainer) {{\n",
              "    x.observe(notebookContainer, {childList: true});\n",
              "}}\n",
              "\n",
              "// Listen for the clearing of the current output cell\n",
              "var outputEl = gd.closest('.output');\n",
              "if (outputEl) {{\n",
              "    x.observe(outputEl, {childList: true});\n",
              "}}\n",
              "\n",
              "                        })                };                            </script>        </div>\n",
              "</body>\n",
              "</html>"
            ]
          },
          "metadata": {}
        },
        {
          "output_type": "execute_result",
          "data": {
            "text/plain": [
              "'lifeExp1.html'"
            ],
            "application/vnd.google.colaboratory.intrinsic+json": {
              "type": "string"
            }
          },
          "metadata": {},
          "execution_count": 14
        }
      ]
    }
  ]
}